{
  "nbformat": 4,
  "nbformat_minor": 0,
  "metadata": {
    "colab": {
      "name": "Untitled0.ipynb",
      "provenance": [],
      "include_colab_link": true
    },
    "kernelspec": {
      "name": "python3",
      "display_name": "Python 3"
    },
    "language_info": {
      "name": "python"
    }
  },
  "cells": [
    {
      "cell_type": "markdown",
      "metadata": {
        "id": "view-in-github",
        "colab_type": "text"
      },
      "source": [
        "<a href=\"https://colab.research.google.com/github/AmanCSE-1/Loan-Defaulter-Prediction-based-on-Customer-Behavior/blob/main/main.ipynb\" target=\"_parent\"><img src=\"https://colab.research.google.com/assets/colab-badge.svg\" alt=\"Open In Colab\"/></a>"
      ]
    },
    {
      "cell_type": "markdown",
      "metadata": {
        "id": "jGNNjD-xj-kv"
      },
      "source": [
        "<em><b>Objective :</b> A Financial organization wants to predict the possible defaulters for the consumer loans product. They have data about historic customer behavior based on what they have observed. Hence when they acquire new customers they want to predict who is riskier and who is not.</em>"
      ]
    },
    {
      "cell_type": "markdown",
      "metadata": {
        "id": "mbTstXQ-kDpr"
      },
      "source": [
        "# Importing Libraries and Loading Dataset"
      ]
    },
    {
      "cell_type": "code",
      "metadata": {
        "id": "XH67Y5uZkIR1"
      },
      "source": [
        "import pandas as pd\n",
        "import numpy as np\n",
        "import matplotlib.pyplot as plt\n",
        "import seaborn as sns"
      ],
      "execution_count": 1,
      "outputs": []
    },
    {
      "cell_type": "code",
      "metadata": {
        "id": "1pcbExXPkKn9"
      },
      "source": [
        "df =  pd.read_csv('/content/Dataset.csv')"
      ],
      "execution_count": 2,
      "outputs": []
    },
    {
      "cell_type": "code",
      "metadata": {
        "colab": {
          "base_uri": "https://localhost:8080/",
          "height": 0
        },
        "id": "zK6Tf8_lK6eo",
        "outputId": "afdba0c5-9647-4d8d-b27c-7f5e093d13b7"
      },
      "source": [
        "df.head()"
      ],
      "execution_count": 3,
      "outputs": [
        {
          "output_type": "execute_result",
          "data": {
            "text/html": [
              "<div>\n",
              "<style scoped>\n",
              "    .dataframe tbody tr th:only-of-type {\n",
              "        vertical-align: middle;\n",
              "    }\n",
              "\n",
              "    .dataframe tbody tr th {\n",
              "        vertical-align: top;\n",
              "    }\n",
              "\n",
              "    .dataframe thead th {\n",
              "        text-align: right;\n",
              "    }\n",
              "</style>\n",
              "<table border=\"1\" class=\"dataframe\">\n",
              "  <thead>\n",
              "    <tr style=\"text-align: right;\">\n",
              "      <th></th>\n",
              "      <th>Id</th>\n",
              "      <th>Income</th>\n",
              "      <th>Age</th>\n",
              "      <th>Experience</th>\n",
              "      <th>Married/Single</th>\n",
              "      <th>House_Ownership</th>\n",
              "      <th>Car_Ownership</th>\n",
              "      <th>Profession</th>\n",
              "      <th>CITY</th>\n",
              "      <th>STATE</th>\n",
              "      <th>CURRENT_JOB_YRS</th>\n",
              "      <th>CURRENT_HOUSE_YRS</th>\n",
              "      <th>Risk_Flag</th>\n",
              "    </tr>\n",
              "  </thead>\n",
              "  <tbody>\n",
              "    <tr>\n",
              "      <th>0</th>\n",
              "      <td>1</td>\n",
              "      <td>1303834</td>\n",
              "      <td>23</td>\n",
              "      <td>3</td>\n",
              "      <td>single</td>\n",
              "      <td>rented</td>\n",
              "      <td>no</td>\n",
              "      <td>Mechanical_engineer</td>\n",
              "      <td>Rewa</td>\n",
              "      <td>Madhya_Pradesh</td>\n",
              "      <td>3</td>\n",
              "      <td>13</td>\n",
              "      <td>0</td>\n",
              "    </tr>\n",
              "    <tr>\n",
              "      <th>1</th>\n",
              "      <td>2</td>\n",
              "      <td>7574516</td>\n",
              "      <td>40</td>\n",
              "      <td>10</td>\n",
              "      <td>single</td>\n",
              "      <td>rented</td>\n",
              "      <td>no</td>\n",
              "      <td>Software_Developer</td>\n",
              "      <td>Parbhani</td>\n",
              "      <td>Maharashtra</td>\n",
              "      <td>9</td>\n",
              "      <td>13</td>\n",
              "      <td>0</td>\n",
              "    </tr>\n",
              "    <tr>\n",
              "      <th>2</th>\n",
              "      <td>3</td>\n",
              "      <td>3991815</td>\n",
              "      <td>66</td>\n",
              "      <td>4</td>\n",
              "      <td>married</td>\n",
              "      <td>rented</td>\n",
              "      <td>no</td>\n",
              "      <td>Technical_writer</td>\n",
              "      <td>Alappuzha</td>\n",
              "      <td>Kerala</td>\n",
              "      <td>4</td>\n",
              "      <td>10</td>\n",
              "      <td>0</td>\n",
              "    </tr>\n",
              "    <tr>\n",
              "      <th>3</th>\n",
              "      <td>4</td>\n",
              "      <td>6256451</td>\n",
              "      <td>41</td>\n",
              "      <td>2</td>\n",
              "      <td>single</td>\n",
              "      <td>rented</td>\n",
              "      <td>yes</td>\n",
              "      <td>Software_Developer</td>\n",
              "      <td>Bhubaneswar</td>\n",
              "      <td>Odisha</td>\n",
              "      <td>2</td>\n",
              "      <td>12</td>\n",
              "      <td>1</td>\n",
              "    </tr>\n",
              "    <tr>\n",
              "      <th>4</th>\n",
              "      <td>5</td>\n",
              "      <td>5768871</td>\n",
              "      <td>47</td>\n",
              "      <td>11</td>\n",
              "      <td>single</td>\n",
              "      <td>rented</td>\n",
              "      <td>no</td>\n",
              "      <td>Civil_servant</td>\n",
              "      <td>Tiruchirappalli[10]</td>\n",
              "      <td>Tamil_Nadu</td>\n",
              "      <td>3</td>\n",
              "      <td>14</td>\n",
              "      <td>1</td>\n",
              "    </tr>\n",
              "  </tbody>\n",
              "</table>\n",
              "</div>"
            ],
            "text/plain": [
              "   Id   Income  Age  ...  CURRENT_JOB_YRS CURRENT_HOUSE_YRS Risk_Flag\n",
              "0   1  1303834   23  ...                3                13         0\n",
              "1   2  7574516   40  ...                9                13         0\n",
              "2   3  3991815   66  ...                4                10         0\n",
              "3   4  6256451   41  ...                2                12         1\n",
              "4   5  5768871   47  ...                3                14         1\n",
              "\n",
              "[5 rows x 13 columns]"
            ]
          },
          "metadata": {},
          "execution_count": 3
        }
      ]
    },
    {
      "cell_type": "code",
      "metadata": {
        "colab": {
          "base_uri": "https://localhost:8080/"
        },
        "id": "jJgRy06uK64n",
        "outputId": "930e0159-02fb-4ad5-a5a1-5431bf249f25"
      },
      "source": [
        "df.shape"
      ],
      "execution_count": 4,
      "outputs": [
        {
          "output_type": "execute_result",
          "data": {
            "text/plain": [
              "(252000, 13)"
            ]
          },
          "metadata": {},
          "execution_count": 4
        }
      ]
    },
    {
      "cell_type": "code",
      "metadata": {
        "id": "PgTGl7InK9ES"
      },
      "source": [
        "df.drop(columns=['Id'], inplace=True)"
      ],
      "execution_count": 5,
      "outputs": []
    },
    {
      "cell_type": "code",
      "metadata": {
        "colab": {
          "base_uri": "https://localhost:8080/"
        },
        "id": "FR9aDdDsK_Hr",
        "outputId": "cd5a335c-92d6-424f-af95-aaed7093f904"
      },
      "source": [
        "df.columns"
      ],
      "execution_count": 6,
      "outputs": [
        {
          "output_type": "execute_result",
          "data": {
            "text/plain": [
              "Index(['Income', 'Age', 'Experience', 'Married/Single', 'House_Ownership',\n",
              "       'Car_Ownership', 'Profession', 'CITY', 'STATE', 'CURRENT_JOB_YRS',\n",
              "       'CURRENT_HOUSE_YRS', 'Risk_Flag'],\n",
              "      dtype='object')"
            ]
          },
          "metadata": {},
          "execution_count": 6
        }
      ]
    },
    {
      "cell_type": "code",
      "metadata": {
        "colab": {
          "base_uri": "https://localhost:8080/"
        },
        "id": "zpq9EpGgLBJ5",
        "outputId": "5131b527-c4ab-4b1c-fcd4-5ab8c8e1bf2b"
      },
      "source": [
        "df.rename(columns={'CITY':'City',\n",
        "                   'STATE': 'State', \n",
        "                   'Married/Single': 'Marital Status',\n",
        "                   'CURRENT_HOUSE_YRS': 'Current_House_Years',\n",
        "                   'CURRENT_JOB_YRS': 'Current_Job_Years'}, inplace=True)\n",
        "\n",
        "df.columns"
      ],
      "execution_count": 7,
      "outputs": [
        {
          "output_type": "execute_result",
          "data": {
            "text/plain": [
              "Index(['Income', 'Age', 'Experience', 'Marital Status', 'House_Ownership',\n",
              "       'Car_Ownership', 'Profession', 'City', 'State', 'Current_Job_Years',\n",
              "       'Current_House_Years', 'Risk_Flag'],\n",
              "      dtype='object')"
            ]
          },
          "metadata": {},
          "execution_count": 7
        }
      ]
    },
    {
      "cell_type": "markdown",
      "metadata": {
        "id": "-AyJ1LlYLFpB"
      },
      "source": [
        "## Descriptive Statistics"
      ]
    },
    {
      "cell_type": "code",
      "metadata": {
        "colab": {
          "base_uri": "https://localhost:8080/"
        },
        "id": "2VHx-krKLIL3",
        "outputId": "621b1246-2eec-41b6-a825-6c71572c8dec"
      },
      "source": [
        "df.info()"
      ],
      "execution_count": 8,
      "outputs": [
        {
          "output_type": "stream",
          "name": "stdout",
          "text": [
            "<class 'pandas.core.frame.DataFrame'>\n",
            "RangeIndex: 252000 entries, 0 to 251999\n",
            "Data columns (total 12 columns):\n",
            " #   Column               Non-Null Count   Dtype \n",
            "---  ------               --------------   ----- \n",
            " 0   Income               252000 non-null  int64 \n",
            " 1   Age                  252000 non-null  int64 \n",
            " 2   Experience           252000 non-null  int64 \n",
            " 3   Marital Status       252000 non-null  object\n",
            " 4   House_Ownership      252000 non-null  object\n",
            " 5   Car_Ownership        252000 non-null  object\n",
            " 6   Profession           252000 non-null  object\n",
            " 7   City                 252000 non-null  object\n",
            " 8   State                252000 non-null  object\n",
            " 9   Current_Job_Years    252000 non-null  int64 \n",
            " 10  Current_House_Years  252000 non-null  int64 \n",
            " 11  Risk_Flag            252000 non-null  int64 \n",
            "dtypes: int64(6), object(6)\n",
            "memory usage: 23.1+ MB\n"
          ]
        }
      ]
    },
    {
      "cell_type": "code",
      "metadata": {
        "colab": {
          "base_uri": "https://localhost:8080/",
          "height": 0
        },
        "id": "MM1gOfM6LKPH",
        "outputId": "9d5ab9db-40e3-4345-a87d-4c190e73189a"
      },
      "source": [
        "df.describe()"
      ],
      "execution_count": 9,
      "outputs": [
        {
          "output_type": "execute_result",
          "data": {
            "text/html": [
              "<div>\n",
              "<style scoped>\n",
              "    .dataframe tbody tr th:only-of-type {\n",
              "        vertical-align: middle;\n",
              "    }\n",
              "\n",
              "    .dataframe tbody tr th {\n",
              "        vertical-align: top;\n",
              "    }\n",
              "\n",
              "    .dataframe thead th {\n",
              "        text-align: right;\n",
              "    }\n",
              "</style>\n",
              "<table border=\"1\" class=\"dataframe\">\n",
              "  <thead>\n",
              "    <tr style=\"text-align: right;\">\n",
              "      <th></th>\n",
              "      <th>Income</th>\n",
              "      <th>Age</th>\n",
              "      <th>Experience</th>\n",
              "      <th>Current_Job_Years</th>\n",
              "      <th>Current_House_Years</th>\n",
              "      <th>Risk_Flag</th>\n",
              "    </tr>\n",
              "  </thead>\n",
              "  <tbody>\n",
              "    <tr>\n",
              "      <th>count</th>\n",
              "      <td>2.520000e+05</td>\n",
              "      <td>252000.000000</td>\n",
              "      <td>252000.000000</td>\n",
              "      <td>252000.000000</td>\n",
              "      <td>252000.000000</td>\n",
              "      <td>252000.000000</td>\n",
              "    </tr>\n",
              "    <tr>\n",
              "      <th>mean</th>\n",
              "      <td>4.997117e+06</td>\n",
              "      <td>49.954071</td>\n",
              "      <td>10.084437</td>\n",
              "      <td>6.333877</td>\n",
              "      <td>11.997794</td>\n",
              "      <td>0.123000</td>\n",
              "    </tr>\n",
              "    <tr>\n",
              "      <th>std</th>\n",
              "      <td>2.878311e+06</td>\n",
              "      <td>17.063855</td>\n",
              "      <td>6.002590</td>\n",
              "      <td>3.647053</td>\n",
              "      <td>1.399037</td>\n",
              "      <td>0.328438</td>\n",
              "    </tr>\n",
              "    <tr>\n",
              "      <th>min</th>\n",
              "      <td>1.031000e+04</td>\n",
              "      <td>21.000000</td>\n",
              "      <td>0.000000</td>\n",
              "      <td>0.000000</td>\n",
              "      <td>10.000000</td>\n",
              "      <td>0.000000</td>\n",
              "    </tr>\n",
              "    <tr>\n",
              "      <th>25%</th>\n",
              "      <td>2.503015e+06</td>\n",
              "      <td>35.000000</td>\n",
              "      <td>5.000000</td>\n",
              "      <td>3.000000</td>\n",
              "      <td>11.000000</td>\n",
              "      <td>0.000000</td>\n",
              "    </tr>\n",
              "    <tr>\n",
              "      <th>50%</th>\n",
              "      <td>5.000694e+06</td>\n",
              "      <td>50.000000</td>\n",
              "      <td>10.000000</td>\n",
              "      <td>6.000000</td>\n",
              "      <td>12.000000</td>\n",
              "      <td>0.000000</td>\n",
              "    </tr>\n",
              "    <tr>\n",
              "      <th>75%</th>\n",
              "      <td>7.477502e+06</td>\n",
              "      <td>65.000000</td>\n",
              "      <td>15.000000</td>\n",
              "      <td>9.000000</td>\n",
              "      <td>13.000000</td>\n",
              "      <td>0.000000</td>\n",
              "    </tr>\n",
              "    <tr>\n",
              "      <th>max</th>\n",
              "      <td>9.999938e+06</td>\n",
              "      <td>79.000000</td>\n",
              "      <td>20.000000</td>\n",
              "      <td>14.000000</td>\n",
              "      <td>14.000000</td>\n",
              "      <td>1.000000</td>\n",
              "    </tr>\n",
              "  </tbody>\n",
              "</table>\n",
              "</div>"
            ],
            "text/plain": [
              "             Income            Age  ...  Current_House_Years      Risk_Flag\n",
              "count  2.520000e+05  252000.000000  ...        252000.000000  252000.000000\n",
              "mean   4.997117e+06      49.954071  ...            11.997794       0.123000\n",
              "std    2.878311e+06      17.063855  ...             1.399037       0.328438\n",
              "min    1.031000e+04      21.000000  ...            10.000000       0.000000\n",
              "25%    2.503015e+06      35.000000  ...            11.000000       0.000000\n",
              "50%    5.000694e+06      50.000000  ...            12.000000       0.000000\n",
              "75%    7.477502e+06      65.000000  ...            13.000000       0.000000\n",
              "max    9.999938e+06      79.000000  ...            14.000000       1.000000\n",
              "\n",
              "[8 rows x 6 columns]"
            ]
          },
          "metadata": {},
          "execution_count": 9
        }
      ]
    },
    {
      "cell_type": "code",
      "metadata": {
        "colab": {
          "base_uri": "https://localhost:8080/"
        },
        "id": "H7oWBqnTLDnh",
        "outputId": "dc8b0b4b-c578-478d-cf19-b9758d02bc13"
      },
      "source": [
        "df.isna().sum()"
      ],
      "execution_count": 10,
      "outputs": [
        {
          "output_type": "execute_result",
          "data": {
            "text/plain": [
              "Income                 0\n",
              "Age                    0\n",
              "Experience             0\n",
              "Marital Status         0\n",
              "House_Ownership        0\n",
              "Car_Ownership          0\n",
              "Profession             0\n",
              "City                   0\n",
              "State                  0\n",
              "Current_Job_Years      0\n",
              "Current_House_Years    0\n",
              "Risk_Flag              0\n",
              "dtype: int64"
            ]
          },
          "metadata": {},
          "execution_count": 10
        }
      ]
    },
    {
      "cell_type": "markdown",
      "metadata": {
        "id": "PaWJ1_HVUMrU"
      },
      "source": [
        ""
      ]
    },
    {
      "cell_type": "markdown",
      "metadata": {
        "id": "5kAEOTRAUNml"
      },
      "source": [
        "# Exploratory Data Analysis"
      ]
    },
    {
      "cell_type": "code",
      "metadata": {
        "colab": {
          "base_uri": "https://localhost:8080/",
          "height": 0
        },
        "id": "k9tnkIBsUR_a",
        "outputId": "57e3176e-2efa-4985-d1af-7de43a18b741"
      },
      "source": [
        "plt.figure(figsize=(8, 6))\n",
        "risk_plot = sns.countplot(x=df['Risk_Flag'], data=df)\n",
        "plt.title('Count of Classes of Response Variable')\n",
        "\n",
        "for p in risk_plot.patches:\n",
        "    txt = str(round(p.get_height()/df.shape[0]*100, 2)) + '%'\n",
        "    txt_x = p.get_x() + p.get_width()/2 -0.07\n",
        "    txt_y = p.get_height() + 200\n",
        "    risk_plot.text(txt_x, txt_y, txt, size=12)\n",
        "    \n",
        "plt.show()"
      ],
      "execution_count": 11,
      "outputs": [
        {
          "output_type": "display_data",
          "data": {
            "image/png": "[encoded data removed]",
            "text/plain": [
              "<Figure size 576x432 with 1 Axes>"
            ]
          },
          "metadata": {
            "needs_background": "light"
          }
        }
      ]
    },
    {
      "cell_type": "code",
      "metadata": {
        "colab": {
          "base_uri": "https://localhost:8080/",
          "height": 0
        },
        "id": "KO4p2Z40UWIQ",
        "outputId": "5e26d2a7-37cc-4bba-80af-8ba7816e192d"
      },
      "source": [
        "plt.subplots_adjust(left=0, right=2, bottom=0, top=1, wspace=0.3, hspace=0.1)\n",
        "\n",
        "plt.subplot(1,2,1)\n",
        "sns.countplot(data=df[df['Risk_Flag']==1], x='Profession', palette='Set2_r', \n",
        "              order=pd.value_counts(df[df['Risk_Flag']==1]['Profession']).iloc[:5].index)\n",
        "plt.ylim([0,900])\n",
        "plt.xticks(rotation=20)\n",
        "plt.title('Top 5 Profession of Loan Defaulters')\n",
        "\n",
        "\n",
        "plt.subplot(1,2,2)\n",
        "sns.countplot(data=df[df['Risk_Flag']==1], x='Profession', palette='Set3', \n",
        "              order=pd.value_counts(df[df['Risk_Flag']==1]['Profession']).iloc[-5:].index)\n",
        "plt.ylim([0,900])\n",
        "plt.xticks(rotation=20)\n",
        "plt.title('Bottom 5 Profession of Loan Defaulters')\n",
        "\n",
        "plt.show()"
      ],
      "execution_count": 12,
      "outputs": [
        {
          "output_type": "display_data",
          "data": {
            "image/png": "[encoded data removed]",
            "text/plain": [
              "<Figure size 432x288 with 2 Axes>"
            ]
          },
          "metadata": {
            "needs_background": "light"
          }
        }
      ]
    },
    {
      "cell_type": "code",
      "metadata": {
        "colab": {
          "base_uri": "https://localhost:8080/",
          "height": 0
        },
        "id": "dKtRcucCUrtT",
        "outputId": "0a877bcd-45e5-4f46-a330-adb99bc50133"
      },
      "source": [
        "plt.figure(figsize=(8, 5))\n",
        "sns.histplot(data=df[df['Risk_Flag']==1], x='Age')\n",
        "plt.title('Pattern in Age of Loan Defaulters')\n",
        "plt.show()"
      ],
      "execution_count": 13,
      "outputs": [
        {
          "output_type": "display_data",
          "data": {
            "image/png": "[encoded data removed]",
            "text/plain": [
              "<Figure size 576x360 with 1 Axes>"
            ]
          },
          "metadata": {
            "needs_background": "light"
          }
        }
      ]
    },
    {
      "cell_type": "code",
      "metadata": {
        "colab": {
          "base_uri": "https://localhost:8080/",
          "height": 0
        },
        "id": "YH4iUOcJVDnM",
        "outputId": "fc09a3df-5bb8-4e3a-80fd-f6791ae76b34"
      },
      "source": [
        "plt.subplots_adjust(left=0, right=2, bottom=0, top=1.1, wspace=0.4, hspace=0.2)\n",
        "\n",
        "plt.subplot(1,2,1)\n",
        "sns.countplot(data=df[df['Risk_Flag']==1], x='Experience', palette='Wistia')\n",
        "plt.title('Pattern in Experience of Loan Defaulters')\n",
        "\n",
        "plt.subplot(1,2,2)\n",
        "sns.countplot(data=df[df['Risk_Flag']==0], x='Experience', palette='crest')\n",
        "plt.title('Pattern in Experience of Loan Creditors')\n",
        "plt.show()"
      ],
      "execution_count": 14,
      "outputs": [
        {
          "output_type": "display_data",
          "data": {
            "image/png": "[encoded data removed]",
            "text/plain": [
              "<Figure size 432x288 with 2 Axes>"
            ]
          },
          "metadata": {
            "needs_background": "light"
          }
        }
      ]
    },
    {
      "cell_type": "code",
      "metadata": {
        "colab": {
          "base_uri": "https://localhost:8080/",
          "height": 0
        },
        "id": "_qkUaTwwVGgb",
        "outputId": "d3e6596f-186f-4203-d957-b73ea50290fc"
      },
      "source": [
        "sns.countplot(data=df, x=\"Risk_Flag\", hue=df.iloc[:, 10], palette='coolwarm')\n",
        "fig = plt.gcf()\n",
        "plt.title('Pattern in Current House Years of Loan Applicants')\n",
        "fig.set_size_inches(10, 7)"
      ],
      "execution_count": 15,
      "outputs": [
        {
          "output_type": "display_data",
          "data": {
            "image/png": "[encoded data removed]",
            "text/plain": [
              "<Figure size 720x504 with 1 Axes>"
            ]
          },
          "metadata": {
            "needs_background": "light"
          }
        }
      ]
    },
    {
      "cell_type": "code",
      "metadata": {
        "id": "XQp0z58WVcFF",
        "colab": {
          "base_uri": "https://localhost:8080/",
          "height": 0
        },
        "outputId": "71a4d96c-63c2-4c29-9e8d-3a772cba4e2b"
      },
      "source": [
        "plt.figure(figsize=(10,8))\n",
        "sns.countplot(data=df[df['Risk_Flag']==1], x=\"House_Ownership\",  palette=\"flare\")\n",
        "plt.title('Pattern in House Ownership of Loan Defaulters')\n",
        "plt.show()"
      ],
      "execution_count": 16,
      "outputs": [
        {
          "output_type": "display_data",
          "data": {
            "image/png": "[encoded data removed]",
            "text/plain": [
              "<Figure size 720x576 with 1 Axes>"
            ]
          },
          "metadata": {
            "needs_background": "light"
          }
        }
      ]
    },
    {
      "cell_type": "code",
      "metadata": {
        "colab": {
          "base_uri": "https://localhost:8080/",
          "height": 0
        },
        "id": "AV76-HKumWam",
        "outputId": "81729c94-a113-4141-f0d2-a8e62ae8a2a9"
      },
      "source": [
        "plt.subplots_adjust(left=0, right=3, bottom=1, top=2, wspace=0.1, hspace=0.4)\n",
        "\n",
        "plt.subplot(1,3,1)\n",
        "marital_status = df['Marital Status'].unique()\n",
        "plt.title('Marital Status')\n",
        "plt.pie(df.groupby(df['Marital Status']).size(), \n",
        "        labels=marital_status, autopct='%1.01f%%', labeldistance=1.11)\n",
        "\n",
        "plt.subplot(1,3,2)\n",
        "house_own = df['House_Ownership'].unique()\n",
        "plt.title('House_Ownership')\n",
        "plt.pie(df.groupby(df['House_Ownership']).size(), \n",
        "        labels=house_own, autopct='%1.01f%%', labeldistance=1.11)\n",
        "\n",
        "plt.subplot(1,3,3)\n",
        "marital_status = df['Car_Ownership'].unique()\n",
        "plt.title('Car Ownership')\n",
        "plt.pie(df.groupby(df['Car_Ownership']).size(), \n",
        "        labels=marital_status, autopct='%1.01f%%', labeldistance=1.11)\n",
        "\n",
        "plt.show()"
      ],
      "execution_count": 17,
      "outputs": [
        {
          "output_type": "display_data",
          "data": {
            "image/png": "[encoded data removed]",
            "text/plain": [
              "<Figure size 432x288 with 3 Axes>"
            ]
          },
          "metadata": {}
        }
      ]
    },
    {
      "cell_type": "code",
      "metadata": {
        "colab": {
          "base_uri": "https://localhost:8080/"
        },
        "id": "d94PS7sHmrcV",
        "outputId": "4963d25f-fbef-4bc5-b679-4c8bd5fe1ca0"
      },
      "source": [
        "df['State'].nunique()"
      ],
      "execution_count": 18,
      "outputs": [
        {
          "output_type": "execute_result",
          "data": {
            "text/plain": [
              "29"
            ]
          },
          "metadata": {},
          "execution_count": 18
        }
      ]
    },
    {
      "cell_type": "code",
      "metadata": {
        "id": "oWCku5ATmr3X"
      },
      "source": [
        "state = dict()\n",
        "\n",
        "j=0\n",
        "for i in df['State'].value_counts().index:\n",
        "    state[i] = [df['State'].value_counts()[j]]\n",
        "    j+=1\n",
        "\n",
        "j=0\n",
        "for i in df[df['Risk_Flag']==1]['State'].value_counts().index:\n",
        "    state[i].append(df[df['Risk_Flag']==1]['State'].value_counts()[j])\n",
        "    j+=1\n",
        "\n",
        "for i in state:\n",
        "    state[i].append(state[i][1]/state[i][0]*100)"
      ],
      "execution_count": 19,
      "outputs": []
    },
    {
      "cell_type": "code",
      "metadata": {
        "colab": {
          "base_uri": "https://localhost:8080/",
          "height": 0
        },
        "id": "Cus6QthdmtNu",
        "outputId": "e1be1ac8-9e2b-4714-dd2b-9d28b707f8cc"
      },
      "source": [
        "statewise_defaulter = pd.DataFrame(index=np.arange(29))\n",
        "\n",
        "j=0\n",
        "for i in state:\n",
        "    statewise_defaulter.loc[j, 'State'] = i\n",
        "    statewise_defaulter.loc[j, 'Total Applicants'] = state[i][0]\n",
        "    statewise_defaulter.loc[j, 'Total Defaulters'] = state[i][1]\n",
        "    statewise_defaulter.loc[j, 'Percent Defaulter'] = state[i][2]\n",
        "    j+=1\n",
        "\n",
        "statewise_defaulter"
      ],
      "execution_count": 20,
      "outputs": [
        {
          "output_type": "execute_result",
          "data": {
            "text/html": [
              "<div>\n",
              "<style scoped>\n",
              "    .dataframe tbody tr th:only-of-type {\n",
              "        vertical-align: middle;\n",
              "    }\n",
              "\n",
              "    .dataframe tbody tr th {\n",
              "        vertical-align: top;\n",
              "    }\n",
              "\n",
              "    .dataframe thead th {\n",
              "        text-align: right;\n",
              "    }\n",
              "</style>\n",
              "<table border=\"1\" class=\"dataframe\">\n",
              "  <thead>\n",
              "    <tr style=\"text-align: right;\">\n",
              "      <th></th>\n",
              "      <th>State</th>\n",
              "      <th>Total Applicants</th>\n",
              "      <th>Total Defaulters</th>\n",
              "      <th>Percent Defaulter</th>\n",
              "    </tr>\n",
              "  </thead>\n",
              "  <tbody>\n",
              "    <tr>\n",
              "      <th>0</th>\n",
              "      <td>Uttar_Pradesh</td>\n",
              "      <td>28400.0</td>\n",
              "      <td>3343.0</td>\n",
              "      <td>11.771127</td>\n",
              "    </tr>\n",
              "    <tr>\n",
              "      <th>1</th>\n",
              "      <td>Maharashtra</td>\n",
              "      <td>25562.0</td>\n",
              "      <td>2895.0</td>\n",
              "      <td>11.325405</td>\n",
              "    </tr>\n",
              "    <tr>\n",
              "      <th>2</th>\n",
              "      <td>Andhra_Pradesh</td>\n",
              "      <td>25297.0</td>\n",
              "      <td>2935.0</td>\n",
              "      <td>11.602166</td>\n",
              "    </tr>\n",
              "    <tr>\n",
              "      <th>3</th>\n",
              "      <td>West_Bengal</td>\n",
              "      <td>23483.0</td>\n",
              "      <td>3009.0</td>\n",
              "      <td>12.813525</td>\n",
              "    </tr>\n",
              "    <tr>\n",
              "      <th>4</th>\n",
              "      <td>Bihar</td>\n",
              "      <td>19780.0</td>\n",
              "      <td>2583.0</td>\n",
              "      <td>13.058645</td>\n",
              "    </tr>\n",
              "    <tr>\n",
              "      <th>5</th>\n",
              "      <td>Tamil_Nadu</td>\n",
              "      <td>16537.0</td>\n",
              "      <td>1706.0</td>\n",
              "      <td>10.316261</td>\n",
              "    </tr>\n",
              "    <tr>\n",
              "      <th>6</th>\n",
              "      <td>Madhya_Pradesh</td>\n",
              "      <td>14122.0</td>\n",
              "      <td>2180.0</td>\n",
              "      <td>15.436907</td>\n",
              "    </tr>\n",
              "    <tr>\n",
              "      <th>7</th>\n",
              "      <td>Karnataka</td>\n",
              "      <td>11855.0</td>\n",
              "      <td>1189.0</td>\n",
              "      <td>10.029523</td>\n",
              "    </tr>\n",
              "    <tr>\n",
              "      <th>8</th>\n",
              "      <td>Gujarat</td>\n",
              "      <td>11408.0</td>\n",
              "      <td>1343.0</td>\n",
              "      <td>11.772440</td>\n",
              "    </tr>\n",
              "    <tr>\n",
              "      <th>9</th>\n",
              "      <td>Rajasthan</td>\n",
              "      <td>9174.0</td>\n",
              "      <td>1292.0</td>\n",
              "      <td>14.083279</td>\n",
              "    </tr>\n",
              "    <tr>\n",
              "      <th>10</th>\n",
              "      <td>Jharkhand</td>\n",
              "      <td>8965.0</td>\n",
              "      <td>1195.0</td>\n",
              "      <td>13.329615</td>\n",
              "    </tr>\n",
              "    <tr>\n",
              "      <th>11</th>\n",
              "      <td>Haryana</td>\n",
              "      <td>7890.0</td>\n",
              "      <td>980.0</td>\n",
              "      <td>12.420786</td>\n",
              "    </tr>\n",
              "    <tr>\n",
              "      <th>12</th>\n",
              "      <td>Telangana</td>\n",
              "      <td>7524.0</td>\n",
              "      <td>979.0</td>\n",
              "      <td>13.011696</td>\n",
              "    </tr>\n",
              "    <tr>\n",
              "      <th>13</th>\n",
              "      <td>Assam</td>\n",
              "      <td>7062.0</td>\n",
              "      <td>930.0</td>\n",
              "      <td>13.169074</td>\n",
              "    </tr>\n",
              "    <tr>\n",
              "      <th>14</th>\n",
              "      <td>Kerala</td>\n",
              "      <td>5805.0</td>\n",
              "      <td>970.0</td>\n",
              "      <td>16.709733</td>\n",
              "    </tr>\n",
              "    <tr>\n",
              "      <th>15</th>\n",
              "      <td>Delhi</td>\n",
              "      <td>5490.0</td>\n",
              "      <td>574.0</td>\n",
              "      <td>10.455373</td>\n",
              "    </tr>\n",
              "    <tr>\n",
              "      <th>16</th>\n",
              "      <td>Punjab</td>\n",
              "      <td>4720.0</td>\n",
              "      <td>425.0</td>\n",
              "      <td>9.004237</td>\n",
              "    </tr>\n",
              "    <tr>\n",
              "      <th>17</th>\n",
              "      <td>Odisha</td>\n",
              "      <td>4658.0</td>\n",
              "      <td>664.0</td>\n",
              "      <td>14.255045</td>\n",
              "    </tr>\n",
              "    <tr>\n",
              "      <th>18</th>\n",
              "      <td>Chhattisgarh</td>\n",
              "      <td>3834.0</td>\n",
              "      <td>511.0</td>\n",
              "      <td>13.328117</td>\n",
              "    </tr>\n",
              "    <tr>\n",
              "      <th>19</th>\n",
              "      <td>Uttarakhand</td>\n",
              "      <td>1874.0</td>\n",
              "      <td>133.0</td>\n",
              "      <td>7.097118</td>\n",
              "    </tr>\n",
              "    <tr>\n",
              "      <th>20</th>\n",
              "      <td>Jammu_and_Kashmir</td>\n",
              "      <td>1780.0</td>\n",
              "      <td>283.0</td>\n",
              "      <td>15.898876</td>\n",
              "    </tr>\n",
              "    <tr>\n",
              "      <th>21</th>\n",
              "      <td>Puducherry</td>\n",
              "      <td>1433.0</td>\n",
              "      <td>167.0</td>\n",
              "      <td>11.653873</td>\n",
              "    </tr>\n",
              "    <tr>\n",
              "      <th>22</th>\n",
              "      <td>Mizoram</td>\n",
              "      <td>849.0</td>\n",
              "      <td>94.0</td>\n",
              "      <td>11.071849</td>\n",
              "    </tr>\n",
              "    <tr>\n",
              "      <th>23</th>\n",
              "      <td>Manipur</td>\n",
              "      <td>849.0</td>\n",
              "      <td>183.0</td>\n",
              "      <td>21.554770</td>\n",
              "    </tr>\n",
              "    <tr>\n",
              "      <th>24</th>\n",
              "      <td>Himachal_Pradesh</td>\n",
              "      <td>833.0</td>\n",
              "      <td>111.0</td>\n",
              "      <td>13.325330</td>\n",
              "    </tr>\n",
              "    <tr>\n",
              "      <th>25</th>\n",
              "      <td>Tripura</td>\n",
              "      <td>809.0</td>\n",
              "      <td>136.0</td>\n",
              "      <td>16.810878</td>\n",
              "    </tr>\n",
              "    <tr>\n",
              "      <th>26</th>\n",
              "      <td>Uttar_Pradesh[5]</td>\n",
              "      <td>743.0</td>\n",
              "      <td>97.0</td>\n",
              "      <td>13.055182</td>\n",
              "    </tr>\n",
              "    <tr>\n",
              "      <th>27</th>\n",
              "      <td>Chandigarh</td>\n",
              "      <td>656.0</td>\n",
              "      <td>61.0</td>\n",
              "      <td>9.298780</td>\n",
              "    </tr>\n",
              "    <tr>\n",
              "      <th>28</th>\n",
              "      <td>Sikkim</td>\n",
              "      <td>608.0</td>\n",
              "      <td>28.0</td>\n",
              "      <td>4.605263</td>\n",
              "    </tr>\n",
              "  </tbody>\n",
              "</table>\n",
              "</div>"
            ],
            "text/plain": [
              "                State  Total Applicants  Total Defaulters  Percent Defaulter\n",
              "0       Uttar_Pradesh           28400.0            3343.0          11.771127\n",
              "1         Maharashtra           25562.0            2895.0          11.325405\n",
              "2      Andhra_Pradesh           25297.0            2935.0          11.602166\n",
              "3         West_Bengal           23483.0            3009.0          12.813525\n",
              "4               Bihar           19780.0            2583.0          13.058645\n",
              "5          Tamil_Nadu           16537.0            1706.0          10.316261\n",
              "6      Madhya_Pradesh           14122.0            2180.0          15.436907\n",
              "7           Karnataka           11855.0            1189.0          10.029523\n",
              "8             Gujarat           11408.0            1343.0          11.772440\n",
              "9           Rajasthan            9174.0            1292.0          14.083279\n",
              "10          Jharkhand            8965.0            1195.0          13.329615\n",
              "11            Haryana            7890.0             980.0          12.420786\n",
              "12          Telangana            7524.0             979.0          13.011696\n",
              "13              Assam            7062.0             930.0          13.169074\n",
              "14             Kerala            5805.0             970.0          16.709733\n",
              "15              Delhi            5490.0             574.0          10.455373\n",
              "16             Punjab            4720.0             425.0           9.004237\n",
              "17             Odisha            4658.0             664.0          14.255045\n",
              "18       Chhattisgarh            3834.0             511.0          13.328117\n",
              "19        Uttarakhand            1874.0             133.0           7.097118\n",
              "20  Jammu_and_Kashmir            1780.0             283.0          15.898876\n",
              "21         Puducherry            1433.0             167.0          11.653873\n",
              "22            Mizoram             849.0              94.0          11.071849\n",
              "23            Manipur             849.0             183.0          21.554770\n",
              "24   Himachal_Pradesh             833.0             111.0          13.325330\n",
              "25            Tripura             809.0             136.0          16.810878\n",
              "26   Uttar_Pradesh[5]             743.0              97.0          13.055182\n",
              "27         Chandigarh             656.0              61.0           9.298780\n",
              "28             Sikkim             608.0              28.0           4.605263"
            ]
          },
          "metadata": {},
          "execution_count": 20
        }
      ]
    },
    {
      "cell_type": "code",
      "metadata": {
        "colab": {
          "base_uri": "https://localhost:8080/",
          "height": 0
        },
        "id": "jf08AeMQmvr2",
        "outputId": "a844ad09-03cc-4776-ba2d-9359e3c86a67"
      },
      "source": [
        "state_abb = ['UP', 'MH', 'AP', 'WB', 'BR', 'TN', 'MP', 'KA', 'GJ', 'RJ', 'JH', 'HR', 'TG', 'AS', 'KL', \n",
        "             'DL', 'PB', 'OR', 'CT', 'UL', 'JK', 'PY', 'MZ', 'MN', 'HP', 'TR', 'UP[5]', 'CH', 'SK']\n",
        "\n",
        "plt.figure(figsize=(14, 8))\n",
        "sns.lineplot(data=statewise_defaulter, x=state_abb, y='Total Applicants', label='Loan Applicants')\n",
        "sns.lineplot(data=statewise_defaulter, x=state_abb, y='Total Defaulters', label='Loan Defaulters')\n",
        "\n",
        "plt.ylabel('Count')\n",
        "plt.xlabel('States of India')\n",
        "plt.show()"
      ],
      "execution_count": 21,
      "outputs": [
        {
          "output_type": "display_data",
          "data": {
            "image/png": "[encoded data removed]",
            "text/plain": [
              "<Figure size 1008x576 with 1 Axes>"
            ]
          },
          "metadata": {
            "needs_background": "light"
          }
        }
      ]
    },
    {
      "cell_type": "code",
      "metadata": {
        "id": "ch329Lg-nHZB",
        "colab": {
          "base_uri": "https://localhost:8080/",
          "height": 0
        },
        "outputId": "7525f2b7-8507-49aa-e7dd-d333f89b3b36"
      },
      "source": [
        "plt.figure(figsize=(14, 8))\n",
        "sns.barplot(x=state_abb, y=statewise_defaulter['Percent Defaulter'], palette='coolwarm')\n",
        "plt.axhline(statewise_defaulter['Percent Defaulter'].mean())\n",
        "plt.show()"
      ],
      "execution_count": 22,
      "outputs": [
        {
          "output_type": "display_data",
          "data": {
            "image/png": "[encoded data removed]",
            "text/plain": [
              "<Figure size 1008x576 with 1 Axes>"
            ]
          },
          "metadata": {
            "needs_background": "light"
          }
        }
      ]
    },
    {
      "cell_type": "markdown",
      "metadata": {
        "id": "hm4NnJbBok6P"
      },
      "source": [
        "# Data Modelling"
      ]
    },
    {
      "cell_type": "code",
      "metadata": {
        "id": "7JIjOsxqoiLN"
      },
      "source": [
        "from sklearn.linear_model import LogisticRegression\n",
        "from sklearn.model_selection import train_test_split\n",
        "from sklearn.metrics import accuracy_score, recall_score, confusion_matrix, roc_curve, roc_auc_score, classification_report"
      ],
      "execution_count": 23,
      "outputs": []
    },
    {
      "cell_type": "code",
      "metadata": {
        "colab": {
          "base_uri": "https://localhost:8080/"
        },
        "id": "n03BBx48oqfT",
        "outputId": "431ef483-238a-4478-fc78-fef1cb8ff0f0"
      },
      "source": [
        "x = df.loc[:, ['Income', 'Age', 'Experience']]\n",
        "y = df.loc[:, 'Risk_Flag']\n",
        "\n",
        "x_train, x_test, y_train, y_test = train_test_split(x, y, test_size=0.15, random_state=1)\n",
        "x_train, x_valid, y_train, y_valid = train_test_split(x_train, y_train, train_size=0.8, random_state=1)\n",
        "print(x_train.shape, x_valid.shape, x_test.shape)"
      ],
      "execution_count": 24,
      "outputs": [
        {
          "output_type": "stream",
          "name": "stdout",
          "text": [
            "(171360, 3) (42840, 3) (37800, 3)\n"
          ]
        }
      ]
    },
    {
      "cell_type": "markdown",
      "metadata": {
        "id": "ekf8cOf1qJke"
      },
      "source": [
        "## Logistic Regression"
      ]
    },
    {
      "cell_type": "code",
      "metadata": {
        "colab": {
          "base_uri": "https://localhost:8080/"
        },
        "id": "k-kIcs9_osws",
        "outputId": "908283c7-1974-439b-84c6-465987d5db9c"
      },
      "source": [
        "logmodel = LogisticRegression()\n",
        "\n",
        "logmodel.fit(x_train, y_train)\n",
        "defaulter_predict = logmodel.predict(x_test)\n",
        "\n",
        "print(\"Accuracy of Logistic Regression Model is {}%\".format(round(accuracy_score(y_test, defaulter_predict), 3)*100))"
      ],
      "execution_count": 25,
      "outputs": [
        {
          "output_type": "stream",
          "name": "stdout",
          "text": [
            "Accuracy of Logistic Regression Model is 87.9%\n"
          ]
        }
      ]
    },
    {
      "cell_type": "code",
      "metadata": {
        "id": "c87S8-8Qqu6U",
        "colab": {
          "base_uri": "https://localhost:8080/",
          "height": 0
        },
        "outputId": "8c69a998-52a8-4bca-8da8-16eca4ad4f32"
      },
      "source": [
        "cf_matrix = confusion_matrix(y_test, defaulter_predict)\n",
        "\n",
        "sns.heatmap(data=cf_matrix, annot=True, fmt='2', cmap='Blues')\n",
        "\n",
        "plt.xlabel('Predicted Class')\n",
        "plt.ylabel('True Class')\n",
        "plt.title('Confusion Matrix')\n",
        "\n",
        "plt.show()"
      ],
      "execution_count": 26,
      "outputs": [
        {
          "output_type": "display_data",
          "data": {
            "image/png": "[encoded data removed]",
            "text/plain": [
              "<Figure size 432x288 with 2 Axes>"
            ]
          },
          "metadata": {
            "needs_background": "light"
          }
        }
      ]
    },
    {
      "cell_type": "code",
      "metadata": {
        "id": "uSvGLODEqvzZ",
        "colab": {
          "base_uri": "https://localhost:8080/"
        },
        "outputId": "7722d78f-1d34-4651-dc10-1c08e851f4c0"
      },
      "source": [
        "print(\"Recall score of Logistic Regression Model is {}%\".format(round(recall_score(y_test, defaulter_predict), 4)*100))"
      ],
      "execution_count": 27,
      "outputs": [
        {
          "output_type": "stream",
          "name": "stdout",
          "text": [
            "Recall score of Logistic Regression Model is 0.0%\n"
          ]
        }
      ]
    },
    {
      "cell_type": "code",
      "metadata": {
        "colab": {
          "base_uri": "https://localhost:8080/"
        },
        "id": "hkJiTi2406P1",
        "outputId": "09a775e5-0069-4969-e97b-98fcf4593cb5"
      },
      "source": [
        "defaulter_probab_log = logmodel.predict_proba(x_test)[:, 1]\n",
        "\n",
        "auc = roc_auc_score(y_test, defaulter_probab_log)\n",
        "print(\"AUC Score of model is %.2f\" %auc)"
      ],
      "execution_count": 28,
      "outputs": [
        {
          "output_type": "stream",
          "name": "stdout",
          "text": [
            "AUC Score of model is 0.51\n"
          ]
        }
      ]
    },
    {
      "cell_type": "markdown",
      "metadata": {
        "id": "yhsp_w9P07gO"
      },
      "source": [
        "## Decision Tree"
      ]
    },
    {
      "cell_type": "code",
      "metadata": {
        "id": "T8b6mu4S0-RN"
      },
      "source": [
        "from sklearn.tree import DecisionTreeClassifier\n",
        "\n",
        "dt = DecisionTreeClassifier(random_state=1)\n",
        "\n",
        "dt.fit(x_train, y_train)\n",
        "defaulter_predict_dt = dt.predict(x_test)"
      ],
      "execution_count": 29,
      "outputs": []
    },
    {
      "cell_type": "code",
      "metadata": {
        "colab": {
          "base_uri": "https://localhost:8080/"
        },
        "id": "opv2vGF61DeU",
        "outputId": "c131b8aa-97e8-4196-d161-aa7005af4637"
      },
      "source": [
        "print(\"Accuracy of Decsion Tree Model is {}%\".format(round(accuracy_score(y_test, defaulter_predict_dt), 3)*100))\n",
        "\n",
        "print(\"Recall Score is {}%\".format(round(recall_score(y_test, defaulter_predict_dt), 4)*100))"
      ],
      "execution_count": 30,
      "outputs": [
        {
          "output_type": "stream",
          "name": "stdout",
          "text": [
            "Accuracy of Decsion Tree Model is 88.2%\n",
            "Recall Score is 56.08%\n"
          ]
        }
      ]
    },
    {
      "cell_type": "code",
      "metadata": {
        "colab": {
          "base_uri": "https://localhost:8080/",
          "height": 0
        },
        "id": "lcGev2Kx1Yu_",
        "outputId": "cc6e2670-6f00-4d78-e779-e1ec8672a411"
      },
      "source": [
        "cf_matrix_dt = confusion_matrix(y_test, defaulter_predict_dt)\n",
        "\n",
        "sns.heatmap(data=cf_matrix_dt, annot=True, fmt='2', cmap='Blues')\n",
        "\n",
        "plt.xlabel('Predicted Class')\n",
        "plt.ylabel('True Class')\n",
        "plt.title('Confusion Matrix for Decision Tree Model')\n",
        "\n",
        "plt.show()"
      ],
      "execution_count": 31,
      "outputs": [
        {
          "output_type": "display_data",
          "data": {
            "image/png": "[encoded data removed]",
            "text/plain": [
              "<Figure size 432x288 with 2 Axes>"
            ]
          },
          "metadata": {
            "needs_background": "light"
          }
        }
      ]
    },
    {
      "cell_type": "code",
      "metadata": {
        "id": "vw9-RPgn1tS1",
        "colab": {
          "base_uri": "https://localhost:8080/"
        },
        "outputId": "352f9d95-39d3-4a2c-e443-54cae81a20e5"
      },
      "source": [
        "print(classification_report(y_test, defaulter_predict_dt))"
      ],
      "execution_count": 32,
      "outputs": [
        {
          "output_type": "stream",
          "name": "stdout",
          "text": [
            "              precision    recall  f1-score   support\n",
            "\n",
            "           0       0.94      0.93      0.93     33237\n",
            "           1       0.51      0.56      0.53      4563\n",
            "\n",
            "    accuracy                           0.88     37800\n",
            "   macro avg       0.72      0.74      0.73     37800\n",
            "weighted avg       0.89      0.88      0.88     37800\n",
            "\n"
          ]
        }
      ]
    },
    {
      "cell_type": "code",
      "metadata": {
        "id": "rYCPdWjN1t2Z",
        "colab": {
          "base_uri": "https://localhost:8080/"
        },
        "outputId": "37d3fd0d-aaf6-43c1-d0ea-8b85b89c7017"
      },
      "source": [
        "defaulter_probab_dt = dt.predict_proba(x_test)[:, 1]\n",
        "\n",
        "auc = roc_auc_score(y_test, defaulter_probab_dt)\n",
        "print(\"AUC Score of model is %.2f\" %auc)"
      ],
      "execution_count": 33,
      "outputs": [
        {
          "output_type": "stream",
          "name": "stdout",
          "text": [
            "AUC Score of model is 0.85\n"
          ]
        }
      ]
    },
    {
      "cell_type": "code",
      "metadata": {
        "id": "75MdwK371wT-",
        "colab": {
          "base_uri": "https://localhost:8080/",
          "height": 0
        },
        "outputId": "1a3ad745-ef3c-48f8-a8ba-b1bec4fda24d"
      },
      "source": [
        "# ROC Curve\n",
        "fpr, tpr, thresholds = roc_curve(y_test, defaulter_probab_dt)\n",
        "\n",
        "plt.plot(fpr, tpr, color='blue', label='Decision Tree')\n",
        "plt.plot([0, 1], [0, 1], color='orange')\n",
        "\n",
        "plt.xlabel('False Positive Rate')\n",
        "plt.ylabel('True Positive Rate')\n",
        "plt.title('ROC Curve')\n",
        "plt.legend()\n",
        "\n",
        "plt.show()"
      ],
      "execution_count": 34,
      "outputs": [
        {
          "output_type": "display_data",
          "data": {
            "image/png": "[encoded data removed]",
            "text/plain": [
              "<Figure size 432x288 with 1 Axes>"
            ]
          },
          "metadata": {
            "needs_background": "light"
          }
        }
      ]
    },
    {
      "cell_type": "markdown",
      "metadata": {
        "id": "M-ol3JXH9-73"
      },
      "source": [
        "## Decision Tree with SMOTE"
      ]
    },
    {
      "cell_type": "code",
      "metadata": {
        "id": "Xb31371T-C_6"
      },
      "source": [
        "import warnings\n",
        "warnings.filterwarnings(\"ignore\")\n",
        "\n",
        "from imblearn.over_sampling import SMOTE "
      ],
      "execution_count": 35,
      "outputs": []
    },
    {
      "cell_type": "code",
      "metadata": {
        "id": "hwgy00of-FdO"
      },
      "source": [
        "sm = SMOTE(random_state=1)\n",
        "\n",
        "x_train_sm, y_train_sm = sm.fit_sample(x_train, y_train)"
      ],
      "execution_count": 36,
      "outputs": []
    },
    {
      "cell_type": "code",
      "metadata": {
        "colab": {
          "base_uri": "https://localhost:8080/",
          "height": 336
        },
        "id": "dtbAR2Lc-IId",
        "outputId": "4a4f24a7-1ed8-407c-e51b-69d791f5d259"
      },
      "source": [
        "plt.figure(figsize=(8, 5))\n",
        "\n",
        "risk_plot = pd.Series(y_train_sm).value_counts().plot(kind='bar')\n",
        "plt.title('Count of Classes of Response Variable')\n",
        "plt.xticks(rotation=0)\n",
        "\n",
        "for p in risk_plot.patches:\n",
        "    txt = str(round(p.get_height()/y_train_sm.shape[0], 4)*100) + '%'\n",
        "    txt_x = p.get_x() + p.get_width()/2 -0.07\n",
        "    txt_y = p.get_height() + 500\n",
        "    risk_plot.text(txt_x, txt_y, txt, size=12)\n",
        "    \n",
        "plt.show()"
      ],
      "execution_count": 37,
      "outputs": [
        {
          "output_type": "display_data",
          "data": {
            "image/png": "[encoded data removed]",
            "text/plain": [
              "<Figure size 576x360 with 1 Axes>"
            ]
          },
          "metadata": {
            "needs_background": "light"
          }
        }
      ]
    },
    {
      "cell_type": "code",
      "metadata": {
        "id": "Cj2bgBrq-2nc"
      },
      "source": [
        "dt_sm = DecisionTreeClassifier()\n",
        "\n",
        "dt_sm.fit(x_train_sm, y_train_sm)\n",
        "\n",
        "defaulter_predict_dt_sm = dt_sm.predict(x_test)"
      ],
      "execution_count": 38,
      "outputs": []
    },
    {
      "cell_type": "code",
      "metadata": {
        "colab": {
          "base_uri": "https://localhost:8080/"
        },
        "id": "Usb4pkQm-3L2",
        "outputId": "3296fa56-836e-40ad-ead0-474f3fd866c8"
      },
      "source": [
        "print(\"Accuracy of Decision Tree Model with SMOTE is {}%\" .format(round(accuracy_score(y_test, defaulter_predict_dt_sm), 2)*100))\n",
        "\n",
        "print(\"Recall Score is {}%\".format(round(recall_score(y_test, defaulter_predict_dt_sm), 2)*100))"
      ],
      "execution_count": 39,
      "outputs": [
        {
          "output_type": "stream",
          "name": "stdout",
          "text": [
            "Accuracy of Decision Tree Model with SMOTE is 86.0%\n",
            "Recall Score is 87.0%\n"
          ]
        }
      ]
    },
    {
      "cell_type": "code",
      "metadata": {
        "colab": {
          "base_uri": "https://localhost:8080/",
          "height": 295
        },
        "id": "7Qo8z59G-6eQ",
        "outputId": "d35c2b30-ffbd-46e5-b727-db8c3e836c34"
      },
      "source": [
        "cf_matrix_dt_sm = confusion_matrix(y_test, defaulter_predict_dt_sm)\n",
        "\n",
        "sns.heatmap(data=cf_matrix_dt_sm, annot=True, fmt='2', cmap='Blues')\n",
        "\n",
        "plt.xlabel('Predicted Class')\n",
        "plt.ylabel('True Class')\n",
        "plt.title('Confusion Matrix for Decision Tree with SMOTE Model')\n",
        "\n",
        "plt.show()"
      ],
      "execution_count": 40,
      "outputs": [
        {
          "output_type": "display_data",
          "data": {
            "image/png": "[encoded data removed]",
            "text/plain": [
              "<Figure size 432x288 with 2 Axes>"
            ]
          },
          "metadata": {
            "needs_background": "light"
          }
        }
      ]
    },
    {
      "cell_type": "code",
      "metadata": {
        "id": "9lThS7o0_Yhz",
        "colab": {
          "base_uri": "https://localhost:8080/"
        },
        "outputId": "86511914-45e5-47ed-eda6-f10ac5589098"
      },
      "source": [
        "print(classification_report(y_test, defaulter_predict_dt_sm))"
      ],
      "execution_count": 41,
      "outputs": [
        {
          "output_type": "stream",
          "name": "stdout",
          "text": [
            "              precision    recall  f1-score   support\n",
            "\n",
            "           0       0.98      0.86      0.92     33237\n",
            "           1       0.46      0.87      0.60      4563\n",
            "\n",
            "    accuracy                           0.86     37800\n",
            "   macro avg       0.72      0.87      0.76     37800\n",
            "weighted avg       0.92      0.86      0.88     37800\n",
            "\n"
          ]
        }
      ]
    },
    {
      "cell_type": "code",
      "metadata": {
        "id": "VUxEXt9Y_ZBk",
        "colab": {
          "base_uri": "https://localhost:8080/"
        },
        "outputId": "734dccf2-4451-450e-b43f-7a28cc717eba"
      },
      "source": [
        "defaulter_probab_dt_sm = dt_sm.predict_proba(x_test)[:, 1]\n",
        "\n",
        "auc = roc_auc_score(y_test, defaulter_probab_dt_sm)\n",
        "print(\"AUC Score of model is %.2f\" %auc)"
      ],
      "execution_count": 42,
      "outputs": [
        {
          "output_type": "stream",
          "name": "stdout",
          "text": [
            "AUC Score of model is 0.85\n"
          ]
        }
      ]
    },
    {
      "cell_type": "code",
      "metadata": {
        "id": "UcK2-Ekg_ayG",
        "colab": {
          "base_uri": "https://localhost:8080/",
          "height": 295
        },
        "outputId": "9290a357-71ca-4ca1-8749-581ff0f20a7b"
      },
      "source": [
        "# ROC Curve\n",
        "fpr, tpr, thresholds = roc_curve(y_test, defaulter_probab_dt_sm)\n",
        "\n",
        "plt.plot(fpr, tpr, color='blue', label='Decision Tree with SMOTE Model')\n",
        "plt.plot([0, 1], [0, 1], color='orange')\n",
        "\n",
        "plt.xlabel('False Positive Rate')\n",
        "plt.ylabel('True Positive Rate')\n",
        "plt.title('ROC Curve')\n",
        "plt.legend()\n",
        "\n",
        "plt.show()"
      ],
      "execution_count": 43,
      "outputs": [
        {
          "output_type": "display_data",
          "data": {
            "image/png": "[encoded data removed]",
            "text/plain": [
              "<Figure size 432x288 with 1 Axes>"
            ]
          },
          "metadata": {
            "needs_background": "light"
          }
        }
      ]
    },
    {
      "cell_type": "code",
      "metadata": {
        "id": "cZ2_QiA6OUVQ"
      },
      "source": [
        "import joblib\n",
        "\n",
        "joblib.dump(dt_sm, 'Loan Defaulter Model.pkl')\n",
        "\n",
        "loan_model = joblib.load('Loan Defaulter Model.pkl')"
      ],
      "execution_count": 44,
      "outputs": []
    },
    {
      "cell_type": "code",
      "metadata": {
        "colab": {
          "base_uri": "https://localhost:8080/"
        },
        "id": "lD6Q6SxzOWUX",
        "outputId": "e5ff37aa-c69e-4b75-8db1-fdcaed3f28cb"
      },
      "source": [
        "user_input_income = int(input(\"Enter the income of loan applicant (in Rs): \"))\n",
        "user_input_age = int(input(\"Enter the Age of loan applicant (in Years): \"))\n",
        "user_input_exp = int(input(\"Enter the experience of loan applicant (in Years): \"))\n",
        "\n",
        "result = loan_model.predict([[user_input_income, user_input_age, user_input_exp]])\n",
        "result_str = \"Loan Defaulter\" if result==1 else \"Not a Loan Defaulter\"\n",
        "\n",
        "print(\"\\n\\nThe Predicted Status of Applicants is : \" + result_str)"
      ],
      "execution_count": 45,
      "outputs": [
        {
          "output_type": "stream",
          "name": "stdout",
          "text": [
            "Enter the income of loan applicant (in Rs): 100000\n",
            "Enter the Age of loan applicant (in Years): 34\n",
            "Enter the experience of loan applicant (in Years): 8\n",
            "\n",
            "\n",
            "The Predicted Status of Applicants is : Not a Loan Defaulter\n"
          ]
        }
      ]
    },
    {
      "cell_type": "code",
      "metadata": {
        "colab": {
          "base_uri": "https://localhost:8080/"
        },
        "id": "hiKyHu9ZOZS9",
        "outputId": "9955aed4-ebe2-4f1e-b697-6dfffee9d28e"
      },
      "source": [
        "loan_model.predict([[100000, 34, 8]])"
      ],
      "execution_count": 46,
      "outputs": [
        {
          "output_type": "execute_result",
          "data": {
            "text/plain": [
              "array([0])"
            ]
          },
          "metadata": {},
          "execution_count": 46
        }
      ]
    },
    {
      "cell_type": "markdown",
      "metadata": {
        "id": "EO7KjvxDOrI_"
      },
      "source": [
        "## Decision Tree with SMOTEEN"
      ]
    },
    {
      "cell_type": "code",
      "metadata": {
        "id": "uWnVfRogOu1O"
      },
      "source": [
        "from imblearn.combine import SMOTEENN"
      ],
      "execution_count": 47,
      "outputs": []
    },
    {
      "cell_type": "code",
      "metadata": {
        "id": "7OyB5d0QOxLz"
      },
      "source": [
        "stn = SMOTEENN(random_state=1)\n",
        "\n",
        "x_train_stn, y_train_stn = stn.fit_sample(x_train, y_train)"
      ],
      "execution_count": 48,
      "outputs": []
    },
    {
      "cell_type": "code",
      "metadata": {
        "colab": {
          "base_uri": "https://localhost:8080/",
          "height": 336
        },
        "id": "4GOZnRq8O0QL",
        "outputId": "90bc5482-5906-4271-9471-027e851ba520"
      },
      "source": [
        "plt.figure(figsize=(8, 5))\n",
        "\n",
        "risk_plot = pd.Series(y_train_stn).value_counts().plot(kind='bar')\n",
        "plt.title('Count of Classes of Response Variable after SMOTEEN')\n",
        "plt.xticks(rotation=0)\n",
        "\n",
        "for p in risk_plot.patches:\n",
        "    txt = str(round(p.get_height()/y_train_sm.shape[0], 4)*100) + '%'\n",
        "    txt_x = p.get_x() + p.get_width()/2 -0.07\n",
        "    txt_y = p.get_height() + 500\n",
        "    risk_plot.text(txt_x, txt_y, txt, size=12)\n",
        "    \n",
        "plt.show()"
      ],
      "execution_count": 49,
      "outputs": [
        {
          "output_type": "display_data",
          "data": {
            "image/png": "[encoded data removed]",
            "text/plain": [
              "<Figure size 576x360 with 1 Axes>"
            ]
          },
          "metadata": {
            "needs_background": "light"
          }
        }
      ]
    },
    {
      "cell_type": "code",
      "metadata": {
        "id": "lYeRhLFfPQKx"
      },
      "source": [
        "dt_stn = DecisionTreeClassifier()\n",
        "\n",
        "dt_stn.fit(x_train_stn, y_train_stn)\n",
        "\n",
        "defaulter_predict_dt_stn = dt_stn.predict(x_test)"
      ],
      "execution_count": 50,
      "outputs": []
    },
    {
      "cell_type": "code",
      "metadata": {
        "colab": {
          "base_uri": "https://localhost:8080/"
        },
        "id": "BDzhpqzXPQ1_",
        "outputId": "9c4137b0-3c2a-456e-a115-eb4a56801967"
      },
      "source": [
        "print(\"Accuracy of Decision Tree Model with SMOTEEN is {}%\"\n",
        "      .format(round(accuracy_score(y_test, defaulter_predict_dt_stn), 3)*100))\n",
        "\n",
        "print(\"Recall Score is {}%\".format(round(recall_score(y_test, defaulter_predict_dt_stn), 4)*100))"
      ],
      "execution_count": 51,
      "outputs": [
        {
          "output_type": "stream",
          "name": "stdout",
          "text": [
            "Accuracy of Decision Tree Model with SMOTEEN is 85.6%\n",
            "Recall Score is 79.05%\n"
          ]
        }
      ]
    },
    {
      "cell_type": "code",
      "metadata": {
        "colab": {
          "base_uri": "https://localhost:8080/"
        },
        "id": "0FHvzhl_PSfh",
        "outputId": "863fa58f-2174-49fa-efe7-522248664b3a"
      },
      "source": [
        "print(classification_report(y_test, defaulter_predict_dt_stn))"
      ],
      "execution_count": 52,
      "outputs": [
        {
          "output_type": "stream",
          "name": "stdout",
          "text": [
            "              precision    recall  f1-score   support\n",
            "\n",
            "           0       0.97      0.87      0.91     33237\n",
            "           1       0.45      0.79      0.57      4563\n",
            "\n",
            "    accuracy                           0.86     37800\n",
            "   macro avg       0.71      0.83      0.74     37800\n",
            "weighted avg       0.90      0.86      0.87     37800\n",
            "\n"
          ]
        }
      ]
    },
    {
      "cell_type": "code",
      "metadata": {
        "id": "_spr7dYJPufd",
        "colab": {
          "base_uri": "https://localhost:8080/"
        },
        "outputId": "0ebf629f-0d69-4fa9-d92e-67a921c0e845"
      },
      "source": [
        "defaulter_probab_dt_stn = dt_stn.predict_proba(x_test)[:, 1]\n",
        "\n",
        "auc = roc_auc_score(y_test, defaulter_probab_dt_stn)\n",
        "print(\"AUC Score of model is %.2f\" %auc)"
      ],
      "execution_count": 53,
      "outputs": [
        {
          "output_type": "stream",
          "name": "stdout",
          "text": [
            "AUC Score of model is 0.83\n"
          ]
        }
      ]
    },
    {
      "cell_type": "markdown",
      "metadata": {
        "id": "ZVDVZHKHS8-X"
      },
      "source": [
        "## Hyper-parameter Tuning"
      ]
    },
    {
      "cell_type": "code",
      "metadata": {
        "colab": {
          "base_uri": "https://localhost:8080/"
        },
        "id": "YbXkziUQTBqZ",
        "outputId": "899096df-0037-42b2-8afd-deb4721f8d54"
      },
      "source": [
        "from sklearn.model_selection import GridSearchCV\n",
        "\n",
        "grid_search = {'criterion': ['entropy', 'gini'],\n",
        "               'max_depth': [2, 5, 10, 20, 30],\n",
        "               'min_samples_leaf': [5, 10, 20, 50, 100]\n",
        "               }\n",
        "\n",
        "dt_clf = DecisionTreeClassifier()\n",
        "dt_hyper = GridSearchCV(estimator = dt_clf, param_grid = grid_search, \n",
        "                               cv = 4, verbose= 1, n_jobs = -1, scoring=\"recall\")\n",
        "\n",
        "dt_hyper.fit(x_train_sm, y_train_sm)"
      ],
      "execution_count": 56,
      "outputs": [
        {
          "output_type": "stream",
          "name": "stdout",
          "text": [
            "Fitting 4 folds for each of 50 candidates, totalling 200 fits\n"
          ]
        },
        {
          "output_type": "stream",
          "name": "stderr",
          "text": [
            "[Parallel(n_jobs=-1)]: Using backend LokyBackend with 2 concurrent workers.\n",
            "[Parallel(n_jobs=-1)]: Done  46 tasks      | elapsed:   10.8s\n",
            "[Parallel(n_jobs=-1)]: Done 196 tasks      | elapsed:  1.5min\n",
            "[Parallel(n_jobs=-1)]: Done 200 out of 200 | elapsed:  1.5min finished\n"
          ]
        },
        {
          "output_type": "execute_result",
          "data": {
            "text/plain": [
              "GridSearchCV(cv=4, error_score=nan,\n",
              "             estimator=DecisionTreeClassifier(ccp_alpha=0.0, class_weight=None,\n",
              "                                              criterion='gini', max_depth=None,\n",
              "                                              max_features=None,\n",
              "                                              max_leaf_nodes=None,\n",
              "                                              min_impurity_decrease=0.0,\n",
              "                                              min_impurity_split=None,\n",
              "                                              min_samples_leaf=1,\n",
              "                                              min_samples_split=2,\n",
              "                                              min_weight_fraction_leaf=0.0,\n",
              "                                              presort='deprecated',\n",
              "                                              random_state=None,\n",
              "                                              splitter='best'),\n",
              "             iid='deprecated', n_jobs=-1,\n",
              "             param_grid={'criterion': ['entropy', 'gini'],\n",
              "                         'max_depth': [2, 5, 10, 20, 30],\n",
              "                         'min_samples_leaf': [5, 10, 20, 50, 100]},\n",
              "             pre_dispatch='2*n_jobs', refit=True, return_train_score=False,\n",
              "             scoring='recall', verbose=1)"
            ]
          },
          "metadata": {},
          "execution_count": 56
        }
      ]
    },
    {
      "cell_type": "code",
      "metadata": {
        "colab": {
          "base_uri": "https://localhost:8080/"
        },
        "id": "SL8IsmBATkF6",
        "outputId": "d8c8869b-d2c3-4010-f556-18ea00ff4233"
      },
      "source": [
        "predictionforest = dt_hyper.best_estimator_.predict(x_test)\n",
        "\n",
        "print(confusion_matrix(y_test,predictionforest))\n",
        "print(classification_report(y_test,predictionforest))\n",
        "\n",
        "acc4 = accuracy_score(y_test,predictionforest)"
      ],
      "execution_count": 57,
      "outputs": [
        {
          "output_type": "stream",
          "name": "stdout",
          "text": [
            "[[25309  7928]\n",
            " [  681  3882]]\n",
            "              precision    recall  f1-score   support\n",
            "\n",
            "           0       0.97      0.76      0.85     33237\n",
            "           1       0.33      0.85      0.47      4563\n",
            "\n",
            "    accuracy                           0.77     37800\n",
            "   macro avg       0.65      0.81      0.66     37800\n",
            "weighted avg       0.90      0.77      0.81     37800\n",
            "\n"
          ]
        }
      ]
    },
    {
      "cell_type": "code",
      "metadata": {
        "id": "gNvcbtFAUQ9b",
        "outputId": "c57659c9-d613-4999-8045-83d31bd97334",
        "colab": {
          "base_uri": "https://localhost:8080/"
        }
      },
      "source": [
        "print(\"Best: %f using %s\" % (dt_hyper.best_score_, dt_hyper.best_params_))"
      ],
      "execution_count": 61,
      "outputs": [
        {
          "output_type": "stream",
          "name": "stdout",
          "text": [
            "Best: 0.905758 using {'criterion': 'gini', 'max_depth': 30, 'min_samples_leaf': 5}\n"
          ]
        }
      ]
    },
    {
      "cell_type": "code",
      "metadata": {
        "id": "5UguHlw2UTbV",
        "outputId": "8a5425f0-78d1-4ffd-ecfe-e8a214b74427",
        "colab": {
          "base_uri": "https://localhost:8080/",
          "height": 203
        }
      },
      "source": [
        "score_df = pd.DataFrame(dt_hyper.cv_results_)\n",
        "score_df.loc[:, ['param_criterion', 'param_max_depth', 'param_min_samples_leaf', 'mean_test_score']].tail().sort_values(by=['mean_test_score'], ascending=False)"
      ],
      "execution_count": 62,
      "outputs": [
        {
          "output_type": "execute_result",
          "data": {
            "text/html": [
              "<div>\n",
              "<style scoped>\n",
              "    .dataframe tbody tr th:only-of-type {\n",
              "        vertical-align: middle;\n",
              "    }\n",
              "\n",
              "    .dataframe tbody tr th {\n",
              "        vertical-align: top;\n",
              "    }\n",
              "\n",
              "    .dataframe thead th {\n",
              "        text-align: right;\n",
              "    }\n",
              "</style>\n",
              "<table border=\"1\" class=\"dataframe\">\n",
              "  <thead>\n",
              "    <tr style=\"text-align: right;\">\n",
              "      <th></th>\n",
              "      <th>param_criterion</th>\n",
              "      <th>param_max_depth</th>\n",
              "      <th>param_min_samples_leaf</th>\n",
              "      <th>mean_test_score</th>\n",
              "    </tr>\n",
              "  </thead>\n",
              "  <tbody>\n",
              "    <tr>\n",
              "      <th>45</th>\n",
              "      <td>gini</td>\n",
              "      <td>30</td>\n",
              "      <td>5</td>\n",
              "      <td>0.905758</td>\n",
              "    </tr>\n",
              "    <tr>\n",
              "      <th>46</th>\n",
              "      <td>gini</td>\n",
              "      <td>30</td>\n",
              "      <td>10</td>\n",
              "      <td>0.897820</td>\n",
              "    </tr>\n",
              "    <tr>\n",
              "      <th>47</th>\n",
              "      <td>gini</td>\n",
              "      <td>30</td>\n",
              "      <td>20</td>\n",
              "      <td>0.875814</td>\n",
              "    </tr>\n",
              "    <tr>\n",
              "      <th>48</th>\n",
              "      <td>gini</td>\n",
              "      <td>30</td>\n",
              "      <td>50</td>\n",
              "      <td>0.851427</td>\n",
              "    </tr>\n",
              "    <tr>\n",
              "      <th>49</th>\n",
              "      <td>gini</td>\n",
              "      <td>30</td>\n",
              "      <td>100</td>\n",
              "      <td>0.824944</td>\n",
              "    </tr>\n",
              "  </tbody>\n",
              "</table>\n",
              "</div>"
            ],
            "text/plain": [
              "   param_criterion param_max_depth param_min_samples_leaf  mean_test_score\n",
              "45            gini              30                      5         0.905758\n",
              "46            gini              30                     10         0.897820\n",
              "47            gini              30                     20         0.875814\n",
              "48            gini              30                     50         0.851427\n",
              "49            gini              30                    100         0.824944"
            ]
          },
          "metadata": {},
          "execution_count": 62
        }
      ]
    }
  ]
}